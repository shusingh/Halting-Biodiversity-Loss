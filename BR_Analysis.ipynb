{
 "cells": [
  {
   "cell_type": "code",
   "execution_count": 1,
   "id": "40d53417-98c4-49d5-90c7-5fd486f42b14",
   "metadata": {},
   "outputs": [],
   "source": [
    "# visualization libraries\n",
    "import matplotlib.pyplot as plt\n",
    "import seaborn as sb\n",
    "import altair as alt\n",
    "# geospatial visualizaiton libraries\n",
    "import geopandas as gpd\n",
    "import gdal\n",
    "import sys\n",
    "import struct\n",
    "gdal.UseExceptions()"
   ]
  },
  {
   "cell_type": "code",
   "execution_count": 3,
   "id": "ef69d3dd-d601-4004-8d89-683b91987178",
   "metadata": {},
   "outputs": [],
   "source": [
    "# open dataset\n",
    "path = 'data/Forest Loss/raster_forest_loss_podocarpusbr_10kmbuffer_sirgas2000.tif'\n",
    "forest_loss = gdal.Open(path)"
   ]
  },
  {
   "cell_type": "code",
   "execution_count": 4,
   "id": "f15c84fa-91bf-4ba4-af43-88b70fb68879",
   "metadata": {},
   "outputs": [
    {
     "data": {
      "text/plain": [
       "{'AREA_OR_POINT': 'Area'}"
      ]
     },
     "execution_count": 4,
     "metadata": {},
     "output_type": "execute_result"
    }
   ],
   "source": [
    "forest_loss.GetMetadata()"
   ]
  },
  {
   "cell_type": "code",
   "execution_count": 5,
   "id": "b359e9c0-f127-4638-9ec8-c9e7f9f5e0eb",
   "metadata": {},
   "outputs": [],
   "source": [
    "band = forest_loss.GetRasterBand(1)"
   ]
  },
  {
   "cell_type": "code",
   "execution_count": 6,
   "id": "d8e86603-e2d6-4dc2-a655-8306223795d2",
   "metadata": {},
   "outputs": [
    {
     "name": "stdout",
     "output_type": "stream",
     "text": [
      "Raster band count: 1\n"
     ]
    }
   ],
   "source": [
    "# raster band count\n",
    "print(f\"Raster band count: {forest_loss.RasterCount}\")"
   ]
  },
  {
   "cell_type": "code",
   "execution_count": 7,
   "id": "a8ad063f-f063-4668-8563-c965e0345c78",
   "metadata": {},
   "outputs": [],
   "source": [
    "# counting number of pixels\n",
    "def countRasterValue(val, path):\n",
    "\n",
    "#     layer = iface.activeLayer()\n",
    "#     provider = layer.dataProvider()\n",
    "\n",
    "    fmttypes = {'Byte':'B', 'UInt16':'H', 'Int16':'h', 'UInt32':'I', 'Int32':'i', 'Float32':'f', 'Float64':'d'}\n",
    "\n",
    "#     my_path = provider.dataSourceUri()\n",
    "\n",
    "    (root, filename) = path.split(path)\n",
    "\n",
    "    dataset = gdal.Open(path)\n",
    "\n",
    "    band = dataset.GetRasterBand(1)\n",
    "\n",
    "    print(f\"rows = {band.YSize} columns = {band.XSize}\")\n",
    "\n",
    "    BandType = gdal.GetDataTypeName(band.DataType)\n",
    "\n",
    "    print(f\"Data Type = {BandType}\")\n",
    "\n",
    "#     print(f\"Executing for {filename}\")\n",
    "#     print(f\"in {root}\")\n",
    "\n",
    "    count_value = 0\n",
    "\n",
    "    for y in range(band.YSize):\n",
    "\n",
    "        scanline = band.ReadRaster(0, y, band.XSize, 1, band.XSize, 1, band.DataType)\n",
    "        values = struct.unpack(fmttypes[BandType] * band.XSize, scanline)\n",
    "\n",
    "        for value in values:\n",
    "            if value == val:\n",
    "                count_value += 1\n",
    "\n",
    "    print(f\"Raster count = {count_value} of {val}\")\n",
    "\n",
    "    dataset = None"
   ]
  },
  {
   "cell_type": "code",
   "execution_count": 9,
   "id": "9660ac74-7928-4419-8052-adc4b67637d6",
   "metadata": {},
   "outputs": [
    {
     "name": "stdout",
     "output_type": "stream",
     "text": [
      "rows = 7494 columns = 5054\n",
      "Data Type = Byte\n",
      "Raster count = 4556 of 2\n"
     ]
    }
   ],
   "source": [
    "countRasterValue(2, path)"
   ]
  },
  {
   "cell_type": "code",
   "execution_count": null,
   "id": "1ade1026-b3ac-430a-9087-43135ceb9ee2",
   "metadata": {},
   "outputs": [],
   "source": []
  }
 ],
 "metadata": {
  "kernelspec": {
   "display_name": "Python 3",
   "language": "python",
   "name": "python3"
  },
  "language_info": {
   "codemirror_mode": {
    "name": "ipython",
    "version": 3
   },
   "file_extension": ".py",
   "mimetype": "text/x-python",
   "name": "python",
   "nbconvert_exporter": "python",
   "pygments_lexer": "ipython3",
   "version": "3.8.2"
  }
 },
 "nbformat": 4,
 "nbformat_minor": 5
}
